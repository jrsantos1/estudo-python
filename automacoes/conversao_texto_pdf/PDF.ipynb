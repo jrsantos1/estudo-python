{
 "cells": [
  {
   "cell_type": "code",
   "execution_count": 1,
   "id": "cd3cd39a",
   "metadata": {},
   "outputs": [
    {
     "name": "stdout",
     "output_type": "stream",
     "text": [
      "Collecting PyPDF2\n",
      "  Downloading pypdf2-2.11.2-py3-none-any.whl (220 kB)\n",
      "Collecting typing_extensions>=3.10.0.0\n",
      "  Downloading typing_extensions-4.4.0-py3-none-any.whl (26 kB)\n",
      "Installing collected packages: typing-extensions, PyPDF2\n",
      "  Attempting uninstall: typing-extensions\n",
      "    Found existing installation: typing-extensions 3.7.4.3\n",
      "    Uninstalling typing-extensions-3.7.4.3:\n",
      "      Successfully uninstalled typing-extensions-3.7.4.3\n",
      "Successfully installed PyPDF2-2.11.2 typing-extensions-4.4.0\n",
      "Note: you may need to restart the kernel to use updated packages.\n"
     ]
    }
   ],
   "source": [
    "pip install PyPDF2"
   ]
  },
  {
   "cell_type": "code",
   "execution_count": 4,
   "id": "1c20d13f",
   "metadata": {},
   "outputs": [
    {
     "name": "stdout",
     "output_type": "stream",
     "text": [
      "Collecting TabulaNote: you may need to restart the kernel to use updated packages.\n",
      "  Downloading tabula-1.0.5.tar.gz (9.5 kB)\n",
      "Requirement already satisfied: setuptools in c:\\users\\55119\\anaconda3\\lib\\site-packages (from Tabula) (52.0.0.post20210125)\n",
      "Requirement already satisfied: numpy in c:\\users\\55119\\anaconda3\\lib\\site-packages (from Tabula) (1.20.1)\n",
      "Building wheels for collected packages: Tabula\n",
      "  Building wheel for Tabula (setup.py): started\n",
      "  Building wheel for Tabula (setup.py): finished with status 'done'\n",
      "  Created wheel for Tabula: filename=tabula-1.0.5-py3-none-any.whl size=10589 sha256=ed88912b8bd460953baa6a6fa0e3b3061cce639c977ec245b29a2ba5cb87a78d\n",
      "  Stored in directory: c:\\users\\55119\\appdata\\local\\pip\\cache\\wheels\\2e\\51\\35\\aa182d12911ffd4045285cffccb0e130b74e9b0c083310c161\n",
      "Successfully built Tabula\n",
      "Installing collected packages: Tabula\n",
      "Successfully installed Tabula-1.0.5\n",
      "\n"
     ]
    }
   ],
   "source": [
    "pip install Tabula\n",
    "#Biblioteca para ler tabela do PDF"
   ]
  },
  {
   "cell_type": "code",
   "execution_count": 5,
   "id": "9419ae6e",
   "metadata": {},
   "outputs": [
    {
     "name": "stdout",
     "output_type": "stream",
     "text": [
      "Collecting tabula-py\n",
      "  Downloading tabula_py-2.6.0-py3-none-any.whl (12.0 MB)\n",
      "Requirement already satisfied: numpy in c:\\users\\55119\\anaconda3\\lib\\site-packages (from tabula-py) (1.20.1)\n",
      "Note: you may need to restart the kernel to use updated packages.Collecting distro\n",
      "  Downloading distro-1.8.0-py3-none-any.whl (20 kB)\n",
      "Requirement already satisfied: pandas>=0.25.3 in c:\\users\\55119\\anaconda3\\lib\\site-packages (from tabula-py) (1.2.4)\n",
      "Requirement already satisfied: python-dateutil>=2.7.3 in c:\\users\\55119\\anaconda3\\lib\\site-packages (from pandas>=0.25.3->tabula-py) (2.8.1)\n",
      "Requirement already satisfied: pytz>=2017.3 in c:\\users\\55119\\anaconda3\\lib\\site-packages (from pandas>=0.25.3->tabula-py) (2021.1)\n",
      "Requirement already satisfied: six>=1.5 in c:\\users\\55119\\anaconda3\\lib\\site-packages (from python-dateutil>=2.7.3->pandas>=0.25.3->tabula-py) (1.15.0)\n",
      "Installing collected packages: distro, tabula-py\n",
      "Successfully installed distro-1.8.0 tabula-py-2.6.0\n",
      "\n"
     ]
    }
   ],
   "source": [
    "pip install tabula-py"
   ]
  },
  {
   "cell_type": "code",
   "execution_count": 6,
   "id": "c32128be",
   "metadata": {},
   "outputs": [
    {
     "name": "stdout",
     "output_type": "stream",
     "text": [
      "Collecting pathlib\n",
      "  Downloading pathlib-1.0.1-py3-none-any.whl (14 kB)\n",
      "Installing collected packages: pathlib\n",
      "Successfully installed pathlib-1.0.1\n",
      "Note: you may need to restart the kernel to use updated packages.\n"
     ]
    }
   ],
   "source": [
    "pip install pathlib\n",
    "#Mexer com qualquer aquivo do computador\n",
    "#Copia / Move / Renomeia e etc"
   ]
  },
  {
   "cell_type": "code",
   "execution_count": null,
   "id": "1c852d30",
   "metadata": {},
   "outputs": [],
   "source": []
  },
  {
   "cell_type": "code",
   "execution_count": 7,
   "id": "e7d52f5a",
   "metadata": {},
   "outputs": [
    {
     "data": {
      "text/plain": [
       "PyPDF2._merger.PdfFileMerger"
      ]
     },
     "execution_count": 7,
     "metadata": {},
     "output_type": "execute_result"
    }
   ],
   "source": [
    "import PyPDF2 as opcoesPDF\n",
    "\n",
    "#Ler um arquivo PDF\n",
    "opcoesPDF.PdfFileReader\n",
    "\n",
    "#Cria / Escreve um arquivo PDF\n",
    "#Não vamos consegui alterar os dados em um arquivo PDF\n",
    "opcoesPDF.PdfFileWriter\n",
    "\n",
    "#Junta dois ou mais arquivos de PDF\n",
    "opcoesPDF.PdfFileMerger"
   ]
  },
  {
   "cell_type": "code",
   "execution_count": null,
   "id": "4bad672b",
   "metadata": {},
   "outputs": [],
   "source": []
  },
  {
   "cell_type": "code",
   "execution_count": 15,
   "id": "9ca8050a",
   "metadata": {},
   "outputs": [
    {
     "name": "stdout",
     "output_type": "stream",
     "text": [
      "71 páginas\n",
      "{'/Title': 'Mercado Livre #oMelhorTáChegando', '/Author': 'Felipe Nunes Garcia', '/Keywords': 'Internal', '/CreationDate': \"D:20200728114956-03'00'\", '/ModDate': \"D:20200728114956-03'00'\", '/Producer': 'Microsoft® PowerPoint® para Office 365', '/Creator': 'Microsoft® PowerPoint® para Office 365'}\n"
     ]
    }
   ],
   "source": [
    "import PyPDF2 as opcoesPDf\n",
    "\n",
    "\n",
    "#https://aftermarket.zf.com/la/brazil-images/e-commerce/apresenta--o-mercado-livre.pdf\n",
    "caminhoArquivo = \"A:\\\\Python RPA\\\\Arquivo Texto e PDF\\\\PDF\\\\Mercado_Livre.pdf\"\n",
    "\n",
    "#Ler um arquivo PDF\n",
    "arquivo_Mercado_Livre = opcoesPDf.PdfFileReader(caminhoArquivo)\n",
    "\n",
    "#Contando quantas páginas tem no arquivo\n",
    "numeroPaginas = arquivo_Mercado_Livre.numPages\n",
    "print(str(numeroPaginas) + \" páginas\")\n",
    "\n",
    "informacoes = arquivo_Mercado_Livre.getDocumentInfo()\n",
    "print(informacoes)\n"
   ]
  },
  {
   "cell_type": "code",
   "execution_count": null,
   "id": "6da56061",
   "metadata": {},
   "outputs": [],
   "source": []
  },
  {
   "cell_type": "code",
   "execution_count": 18,
   "id": "3d2b3377",
   "metadata": {},
   "outputs": [
    {
     "name": "stdout",
     "output_type": "stream",
     "text": [
      "8\n",
      "Como Evoluiu o Modelo de Negócio da Amazon ?\n",
      "HISTÓRICO E SUA CORRELAÇÃO COM OS RESULTADOS DA EMPRESA\n",
      "0Outubro de 2016.ESTUDO DESENVOLVIDO PELA LUNICA CONSULTORIA, \n",
      "ESPECIALIZADA EM ESTRATÉGIA DE NEGÓCIO.\n",
      "\n"
     ]
    }
   ],
   "source": [
    "from  PyPDF2 import PdfReader\n",
    "\n",
    "\n",
    "#arquivoPDF = PdfReader(\"A:\\\\Python RPA\\\\Arquivo Texto e PDF\\\\PDF\\\\Mercado_Livre.pdf\")\n",
    "arquivoPDF = PdfReader(\"A:\\\\Python RPA\\\\Arquivo Texto e PDF\\\\PDF\\\\Evolução_Amazon.pdf\")\n",
    "\n",
    "\n",
    "#Número de páginas\n",
    "contaNumeroPaginas = len(arquivoPDF.pages)\n",
    "print(contaNumeroPaginas)\n",
    "\n",
    "#Selecionando a página 0 do arquivo\n",
    "#O indice sempre começa no 0\n",
    "pagina = arquivoPDF.pages[0]\n",
    "\n",
    "#Pegando o texto te quem na página 1\n",
    "textoPagina1 = pagina.extract_text()\n",
    "\n",
    "print(textoPagina1)\n"
   ]
  },
  {
   "cell_type": "code",
   "execution_count": null,
   "id": "9fa888e9",
   "metadata": {},
   "outputs": [],
   "source": []
  },
  {
   "cell_type": "code",
   "execution_count": 34,
   "id": "f7418ad1",
   "metadata": {},
   "outputs": [
    {
     "name": "stdout",
     "output_type": "stream",
     "text": [
      "Felipe Nunes Garcia\n",
      "Microsoft® PowerPoint® para Office 365\n",
      "Microsoft® PowerPoint® para Office 365\n",
      "None\n",
      "Mercado Livre #oMelhorTáChegando\n"
     ]
    }
   ],
   "source": [
    "from  PyPDF2 import PdfReader\n",
    "\n",
    "\n",
    "#arquivoPDF = PdfReader(\"A:\\\\Python RPA\\\\Arquivo Texto e PDF\\\\PDF\\\\Mercado_Livre.pdf\")\n",
    "arquivoPDF = PdfReader(\"A:\\\\Python RPA\\\\Arquivo Texto e PDF\\\\PDF\\\\Mercado_Livre.pdf\")\n",
    "\n",
    "dados = arquivoPDF.metadata\n",
    "\n",
    "#Imprimindo informações do PDF\n",
    "print(dados.author)\n",
    "print(dados.creator)\n",
    "print(dados.producer)\n",
    "print(dados.subject)\n",
    "print(dados.title)\n"
   ]
  },
  {
   "cell_type": "code",
   "execution_count": null,
   "id": "4ca1fd7c",
   "metadata": {},
   "outputs": [],
   "source": []
  },
  {
   "cell_type": "code",
   "execution_count": 48,
   "id": "86583cbb",
   "metadata": {},
   "outputs": [
    {
     "name": "stdout",
     "output_type": "stream",
     "text": [
      "Pronto!\n"
     ]
    }
   ],
   "source": [
    "from  PyPDF2 import PdfReader, PdfWriter\n",
    "\n",
    "\n",
    "arquivoPDF = PdfReader(\"A:\\\\Python RPA\\\\Arquivo Texto e PDF\\\\PDF\\\\Mercado_Livre.pdf\")\n",
    "#arquivoPDF = PdfReader(\"A:\\\\Python RPA\\\\Arquivo Texto e PDF\\\\PDF\\\\Evolução_Amazon.pdf\")\n",
    "\n",
    "#Opção para criar o novo arquivo\n",
    "novoArquivoPDF = PdfWriter()\n",
    "\n",
    "#para cada pagina no arquivoPDF \n",
    "for pagina in arquivoPDF.pages:\n",
    "    \n",
    "    #Pegando pagina por pagina do arquivo Mercado_Livre e adicionando no novoArquivoPDF \n",
    "    novoArquivoPDF.add_page(pagina)\n",
    "    \n",
    "#Populando as informações sobre o PDF\n",
    "novoArquivoPDF.add_metadata(\n",
    "    {\n",
    "        \"/Author\": \"Clevison Santos\",\n",
    "        \"/Creator\": \"Python PdfWriter\",\n",
    "        \"/Producer\": \"Curso Python PDF\",\n",
    "        \"/Subject\": \"Ensinando a trabalhar com PDF\",\n",
    "        \"/Title\": \"Curso RPA Python\",\n",
    "    \n",
    "    }\n",
    ")\n",
    "\n",
    "#Salvo o novo arquivo PDF que criamos\n",
    "with open(\"A:\\\\Python RPA\\\\Arquivo Texto e PDF\\\\PDF\\\\Arquivo_Alterado_Mercado_Livre.pdf\", \"wb\") as dadosArquivo:\n",
    "    novoArquivoPDF.write(dadosArquivo) \n",
    "    \n",
    "print(\"Pronto!\")"
   ]
  },
  {
   "cell_type": "code",
   "execution_count": 33,
   "id": "bef275e2",
   "metadata": {},
   "outputs": [
    {
     "name": "stdout",
     "output_type": "stream",
     "text": [
      "Clevison Santos\n",
      "Python PdfWriter\n",
      "Curso Python PDF\n",
      "Ensinando a trabalhar com PDF\n",
      "Curso RPA Python\n"
     ]
    }
   ],
   "source": [
    "#Alterando as informações\n",
    "from  PyPDF2 import PdfReader\n",
    "\n",
    "\n",
    "#arquivoPDF = PdfReader(\"A:\\\\Python RPA\\\\Arquivo Texto e PDF\\\\PDF\\\\Mercado_Livre.pdf\")\n",
    "arquivoPDF = PdfReader(\"A:\\\\Python RPA\\\\Arquivo Texto e PDF\\\\PDF\\\\Arquivo_Alterado_Mercado_Livre.pdf\")\n",
    "\n",
    "dados = arquivoPDF.metadata\n",
    "\n",
    "#Imprimindo informações do PDF\n",
    "print(dados.author)\n",
    "print(dados.creator)\n",
    "print(dados.producer)\n",
    "print(dados.subject)\n",
    "print(dados.title)"
   ]
  },
  {
   "cell_type": "code",
   "execution_count": 52,
   "id": "b84b09f6",
   "metadata": {},
   "outputs": [
    {
     "name": "stdout",
     "output_type": "stream",
     "text": [
      "Pronto!\n"
     ]
    }
   ],
   "source": [
    "#Criando senha para o arquivo PDF\n",
    "from  PyPDF2 import PdfReader, PdfWriter\n",
    "\n",
    "\n",
    "arquivoPDF = PdfReader(\"A:\\\\Python RPA\\\\Arquivo Texto e PDF\\\\PDF\\\\Arquivo_Alterado_Mercado_Livre.pdf\")\n",
    "#arquivoPDF = PdfReader(\"A:\\\\Python RPA\\\\Arquivo Texto e PDF\\\\PDF\\\\Evolução_Amazon.pdf\")\n",
    "\n",
    "#Opção para criar o novo arquivo\n",
    "novoArquivoPDF = PdfWriter()\n",
    "\n",
    "#para cada pagina no arquivoPDF \n",
    "for pagina in arquivoPDF.pages:\n",
    "    \n",
    "    #Pegando pagina por pagina do arquivo Mercado_Livre e adicionando no novoArquivoPDF \n",
    "    novoArquivoPDF.add_page(pagina)\n",
    "    \n",
    "#Adiciono uma senha ao novo arquivo que vai ser criado\n",
    "novoArquivoPDF.encrypt(\"aluno\")\n",
    "\n",
    "#Salvo o novo arquivo PDF que criamos\n",
    "with open(\"A:\\\\Python RPA\\\\Arquivo Texto e PDF\\\\PDF\\\\Senha_Arquivo_Alterado_Mercado_Livre.pdf\", \"wb\") as dadosArquivo:\n",
    "    novoArquivoPDF.write(dadosArquivo) \n",
    "    \n",
    "print(\"Pronto!\")"
   ]
  },
  {
   "cell_type": "code",
   "execution_count": null,
   "id": "213012af",
   "metadata": {},
   "outputs": [],
   "source": []
  },
  {
   "cell_type": "code",
   "execution_count": 3,
   "id": "82d519ad",
   "metadata": {},
   "outputs": [
    {
     "name": "stdout",
     "output_type": "stream",
     "text": [
      "Pronto!\n"
     ]
    }
   ],
   "source": [
    "#Removendo a senha para o arquivo PDF\n",
    "from  PyPDF2 import PdfReader, PdfWriter\n",
    "\n",
    "\n",
    "arquivoPDF = PdfReader(\"A:\\\\Python RPA\\\\Arquivo Texto e PDF\\\\PDF\\\\Senha_Arquivo_Alterado_Mercado_Livre.pdf\")\n",
    "#arquivoPDF = PdfReader(\"A:\\\\Python RPA\\\\Arquivo Texto e PDF\\\\PDF\\\\Evolução_Amazon.pdf\")\n",
    "\n",
    "#Opção para criar o novo arquivo\n",
    "novoArquivoPDF = PdfWriter()\n",
    "\n",
    "#Verifica se já possui senha\n",
    "if arquivoPDF.is_encrypted:\n",
    "    arquivoPDF.decrypt(\"aluno\") #Removo a senha\n",
    "\n",
    "#para cada pagina no arquivoPDF \n",
    "for pagina in arquivoPDF.pages:\n",
    "    \n",
    "    #Pegando pagina por pagina do arquivo Mercado_Livre e adicionando no novoArquivoPDF \n",
    "    novoArquivoPDF.add_page(pagina)\n",
    "    \n",
    "\n",
    "#Salvo o novo arquivo PDF que criamos\n",
    "with open(\"A:\\\\Python RPA\\\\Arquivo Texto e PDF\\\\PDF\\\\Senha_Arquivo_Alterado_Mercado_Livre.pdf\", \"wb\") as dadosArquivo:\n",
    "    novoArquivoPDF.write(dadosArquivo) \n",
    "    \n",
    "print(\"Pronto!\")"
   ]
  },
  {
   "cell_type": "code",
   "execution_count": null,
   "id": "70359741",
   "metadata": {},
   "outputs": [],
   "source": []
  },
  {
   "cell_type": "code",
   "execution_count": 6,
   "id": "47832165",
   "metadata": {},
   "outputs": [
    {
     "name": "stdout",
     "output_type": "stream",
     "text": [
      "Pronto!\n"
     ]
    }
   ],
   "source": [
    "#Cria um novo arquivo para cada página\n",
    "import PyPDF2 as opcoesPDF\n",
    "from pathlib import Path\n",
    "\n",
    "caminhoArquivo = \"A:\\\\Python RPA\\\\Arquivo Texto e PDF\\\\PDF\\\\Mercado_Livre.pdf\"\n",
    "\n",
    "PDF_MercadoLivre = opcoesPDF.PdfFileReader(caminhoArquivo)\n",
    "\n",
    "\n",
    "numeroPagina = 1\n",
    "\n",
    "#Para cada página onde no arquivo do PDF_MercadoLivre\n",
    "for pagina in PDF_MercadoLivre.pages:\n",
    "    \n",
    "    #Adiciona na variável a opção de criar um novo arquivo pdf\n",
    "    novoPDF = opcoesPDF.PdfFileWriter()\n",
    "    \n",
    "    #Na variavel, aciona o metodo de criar uma página e adiciona a página corrente\n",
    "    novoPDF.addPage(pagina)\n",
    "    \n",
    "    caminhoPasta = \"A:\\\\Python RPA\\\\Arquivo Texto e PDF\\\\PDF\\\\PDFs Mercado Livre\\\\\"\n",
    "    \n",
    "    #With - É uma estrutura que pega o arquivo novo e no final da instrução salva o arquivo\n",
    "    #Path - Vem da biblioteca pathlib e ele cria o caminho / arquivo no computador\n",
    "    #open(mode='wb') - Abre o arquivo em modo de escrita, o wb permite criar\n",
    "    with Path(caminhoPasta + 'Arquivo_Mercado_Livre' + str(numeroPagina) + '.pdf').open(mode='wb') as arquivoConcluido:\n",
    "    \n",
    "        #Salva o pdf com as informações\n",
    "        novoPDF.write(arquivoConcluido)\n",
    "        \n",
    "        #Acrescento sempre 1 na váriave ou seja sempre somo + 1\n",
    "        numeroPagina += 1\n",
    "              \n",
    "print(\"Pronto!\")"
   ]
  },
  {
   "cell_type": "code",
   "execution_count": null,
   "id": "7680d594",
   "metadata": {},
   "outputs": [],
   "source": []
  },
  {
   "cell_type": "code",
   "execution_count": 8,
   "id": "1f2d7239",
   "metadata": {},
   "outputs": [
    {
     "name": "stdout",
     "output_type": "stream",
     "text": [
      "Pronto!\n"
     ]
    }
   ],
   "source": [
    "#Cria um novo arquivo para cada página\n",
    "#Rotacionar a página\n",
    "import PyPDF2 as opcoesPDF\n",
    "from pathlib import Path\n",
    "\n",
    "caminhoArquivo = \"A:\\\\Python RPA\\\\Arquivo Texto e PDF\\\\PDF\\\\Mercado_Livre.pdf\"\n",
    "\n",
    "PDF_MercadoLivre = opcoesPDF.PdfFileReader(caminhoArquivo)\n",
    "\n",
    "\n",
    "numeroPagina = 1\n",
    "\n",
    "#Para cada página onde no arquivo do PDF_MercadoLivre\n",
    "for pagina in PDF_MercadoLivre.pages:\n",
    "    \n",
    "    #Rodo a página\n",
    "    pagina.rotateClockwise(180)\n",
    "    \n",
    "    #Adiciona na variável a opção de criar um novo arquivo pdf\n",
    "    novoPDF = opcoesPDF.PdfFileWriter()\n",
    "    \n",
    "    #Na variavel, aciona o metodo de criar uma página e adiciona a página corrente\n",
    "    novoPDF.addPage(pagina)\n",
    "    \n",
    "    caminhoPasta = \"A:\\\\Python RPA\\\\Arquivo Texto e PDF\\\\PDF\\\\PDFs Mercado Livre\\\\\"\n",
    "    \n",
    "    #With - É uma estrutura que pega o arquivo novo e no final da instrução salva o arquivo\n",
    "    #Path - Vem da biblioteca pathlib e ele cria o caminho / arquivo no computador\n",
    "    #open(mode='wb') - Abre o arquivo em modo de escrita, o wb permite criar\n",
    "    with Path(caminhoPasta + 'Arquivo_Mercado_Livre' + str(numeroPagina) + '.pdf').open(mode='wb') as arquivoConcluido:\n",
    "    \n",
    "        #Salva o pdf com as informações\n",
    "        novoPDF.write(arquivoConcluido)\n",
    "        \n",
    "        #Acrescento sempre 1 na váriave ou seja sempre somo + 1\n",
    "        numeroPagina += 1\n",
    "              \n",
    "print(\"Pronto!\")"
   ]
  },
  {
   "cell_type": "code",
   "execution_count": null,
   "id": "52aed981",
   "metadata": {},
   "outputs": [],
   "source": []
  },
  {
   "cell_type": "code",
   "execution_count": 9,
   "id": "ab4c905f",
   "metadata": {},
   "outputs": [
    {
     "name": "stdout",
     "output_type": "stream",
     "text": [
      "5\n",
      "10\n",
      "15\n",
      "20\n",
      "Pronto!\n"
     ]
    }
   ],
   "source": [
    "#Cria um novo arquivo para páginas especificas\n",
    "import PyPDF2 as opcoesPDF\n",
    "from pathlib import Path\n",
    "\n",
    "caminhoArquivo = \"A:\\\\Python RPA\\\\Arquivo Texto e PDF\\\\PDF\\\\Mercado_Livre.pdf\"\n",
    "\n",
    "PDF_MercadoLivre = opcoesPDF.PdfFileReader(caminhoArquivo)\n",
    "\n",
    "#Definindo quais as páginas incluir no arquivo PDF\n",
    "paginas = [5, 10, 15, 20]\n",
    "\n",
    "numeroPagina = 1\n",
    "\n",
    "#Adiciona na variável a opção de criar um novo arquivo pdf\n",
    "novoPDF = opcoesPDF.PdfFileWriter()\n",
    "\n",
    "#Para cada página onde no arquivo do PDF_MercadoLivre\n",
    "for pagina in PDF_MercadoLivre.pages:\n",
    "    \n",
    "    #verifica se o número da página está na lista das páginas que queremos\n",
    "    if numeroPagina in paginas:\n",
    "    \n",
    "        #Na variavel, aciona o metodo de criar uma página e adiciona a página corrente\n",
    "        novoPDF.addPage(pagina)\n",
    "        \n",
    "        print(numeroPagina)\n",
    "        \n",
    "    #Acrescento sempre 1 na váriave ou seja sempre somo + 1\n",
    "    numeroPagina += 1\n",
    "    \n",
    "caminhoPasta = \"A:\\\\Python RPA\\\\Arquivo Texto e PDF\\\\PDF\\\\PDFs Mercado Livre\\\\\"\n",
    "    \n",
    "#With - É uma estrutura que pega o arquivo novo e no final da instrução salva o arquivo\n",
    "#Path - Vem da biblioteca pathlib e ele cria o caminho / arquivo no computador\n",
    "#open(mode='wb') - Abre o arquivo em modo de escrita, o wb permite criar\n",
    "with Path(caminhoPasta + 'Arquivo_Mercado_Livre' + str(numeroPagina) + '.pdf').open(mode='wb') as arquivoConcluido:\n",
    "    \n",
    "    #Salva o pdf com as informações\n",
    "    novoPDF.write(arquivoConcluido)\n",
    "        \n",
    "        \n",
    "              \n",
    "print(\"Pronto!\")"
   ]
  },
  {
   "cell_type": "code",
   "execution_count": null,
   "id": "0a51698c",
   "metadata": {},
   "outputs": [],
   "source": []
  },
  {
   "cell_type": "code",
   "execution_count": 10,
   "id": "a9f2e873",
   "metadata": {},
   "outputs": [
    {
     "name": "stdout",
     "output_type": "stream",
     "text": [
      "Pronto!\n"
     ]
    }
   ],
   "source": [
    "#Junta 2 arquivos\n",
    "import PyPDF2 as opcoesPDF\n",
    "from pathlib import Path\n",
    "\n",
    "#PdfFileMerger - Juntar os arquivos\n",
    "pdf_Principal = opcoesPDF.PdfFileMerger()\n",
    "\n",
    "pdf1 = \"A:\\\\Python RPA\\\\Arquivo Texto e PDF\\\\PDF\\\\Evolução_Amazon.pdf\"\n",
    "pdf2 = \"A:\\\\Python RPA\\\\Arquivo Texto e PDF\\\\PDF\\\\Mercado_Livre.pdf\"\n",
    "\n",
    "#append para ele adiciona o arquivo / mesclar\n",
    "pdf_Principal.append(pdf1)\n",
    "pdf_Principal.append(pdf2)\n",
    "\n",
    "\n",
    "caminhoPasta = \"A:\\\\Python RPA\\\\Arquivo Texto e PDF\\\\PDF\\\\\"\n",
    "    \n",
    "#With - É uma estrutura que pega o arquivo novo e no final da instrução salva o arquivo\n",
    "#Path - Vem da biblioteca pathlib e ele cria o caminho / arquivo no computador\n",
    "#open(mode='wb') - Abre o arquivo em modo de escrita, o wb permite criar\n",
    "with Path(caminhoPasta + 'PDF_Consolidado.pdf').open(mode='wb') as arquivoConcluido:\n",
    "    \n",
    "    #Salva o pdf com as informações\n",
    "    pdf_Principal.write(arquivoConcluido)\n",
    "        \n",
    "        \n",
    "              \n",
    "print(\"Pronto!\")"
   ]
  },
  {
   "cell_type": "code",
   "execution_count": null,
   "id": "4e2c52c2",
   "metadata": {},
   "outputs": [],
   "source": []
  },
  {
   "cell_type": "code",
   "execution_count": 12,
   "id": "e473703a",
   "metadata": {},
   "outputs": [
    {
     "name": "stdout",
     "output_type": "stream",
     "text": [
      "Pronto!\n"
     ]
    }
   ],
   "source": [
    "#Junta 3 arquivos PDF jeito 2\n",
    "from PyPDF2 import PdfMerger\n",
    "\n",
    "\n",
    "pdf1 = \"A:\\\\Python RPA\\\\Arquivo Texto e PDF\\\\PDF\\\\Evolução_Amazon.pdf\"\n",
    "pdf2 = \"A:\\\\Python RPA\\\\Arquivo Texto e PDF\\\\PDF\\\\SEBRAE-AMAZON.pdf\"\n",
    "pdf3 = \"A:\\\\Python RPA\\\\Arquivo Texto e PDF\\\\PDF\\\\Mercado_Livre.pdf\"\n",
    "\n",
    "juntarPDFs = PdfMerger()\n",
    "\n",
    "#Para cada PDF na lista eu pego o aquivo e adiciono no juntarPDFs \n",
    "for pdf in [pdf1, pdf2, pdf3]:\n",
    "    \n",
    "    juntarPDFs.append(pdf)\n",
    "\n",
    "\n",
    "#Salvo o arquivo consolidado PDF na pasta\n",
    "juntarPDFs.write(\"A:\\\\Python RPA\\\\Arquivo Texto e PDF\\\\PDF\\\\3_arquivos_Juntos.pdf\")\n",
    "    \n",
    "             \n",
    "print(\"Pronto!\")"
   ]
  },
  {
   "cell_type": "code",
   "execution_count": null,
   "id": "cc7bee9c",
   "metadata": {},
   "outputs": [],
   "source": []
  },
  {
   "cell_type": "code",
   "execution_count": 15,
   "id": "ddc2e3ed",
   "metadata": {},
   "outputs": [
    {
     "name": "stdout",
     "output_type": "stream",
     "text": [
      "Pronto!\n"
     ]
    }
   ],
   "source": [
    "#Cria um PDF para cada página para nos ajudar\n",
    "import PyPDF2 as opcoesPDF\n",
    "from pathlib import Path\n",
    "\n",
    "caminhoArquivo = \"A:\\\\Python RPA\\\\Arquivo Texto e PDF\\\\PDF\\\\SEBRAE-AMAZON.pdf\"\n",
    "\n",
    "PDF_MercadoLivre = opcoesPDF.PdfFileReader(caminhoArquivo)\n",
    "\n",
    "\n",
    "numeroPagina = 1\n",
    "\n",
    "#Para cada página onde no arquivo do PDF_MercadoLivre\n",
    "for pagina in PDF_MercadoLivre.pages:\n",
    "    \n",
    "    #Adiciona na variável a opção de criar um novo arquivo pdf\n",
    "    novoPDF = opcoesPDF.PdfFileWriter()\n",
    "    \n",
    "    #Na variavel, aciona o metodo de criar uma página e adiciona a página corrente\n",
    "    novoPDF.addPage(pagina)\n",
    "    \n",
    "    caminhoPasta = \"A:\\\\Python RPA\\\\Arquivo Texto e PDF\\\\PDF\\\\PDFs Sebrae\\\\\"\n",
    "    \n",
    "    #With - É uma estrutura que pega o arquivo novo e no final da instrução salva o arquivo\n",
    "    #Path - Vem da biblioteca pathlib e ele cria o caminho / arquivo no computador\n",
    "    #open(mode='wb') - Abre o arquivo em modo de escrita, o wb permite criar\n",
    "    with Path(caminhoPasta + 'Arquivo_Sebrae' + str(numeroPagina) + '.pdf').open(mode='wb') as arquivoConcluido:\n",
    "    \n",
    "        #Salva o pdf com as informações\n",
    "        novoPDF.write(arquivoConcluido)\n",
    "        \n",
    "        #Acrescento sempre 1 na váriave ou seja sempre somo + 1\n",
    "        numeroPagina += 1\n",
    "              \n",
    "print(\"Pronto!\")"
   ]
  },
  {
   "cell_type": "code",
   "execution_count": null,
   "id": "01fcddac",
   "metadata": {},
   "outputs": [],
   "source": []
  },
  {
   "cell_type": "code",
   "execution_count": 21,
   "id": "54e9d4dc",
   "metadata": {},
   "outputs": [
    {
     "name": "stdout",
     "output_type": "stream",
     "text": [
      "Pronto!\n"
     ]
    }
   ],
   "source": [
    "#Junta 3 arquivos PDF jeito 2\n",
    "import PyPDF2 as opcoesPDF\n",
    "from pathlib import Path\n",
    "\n",
    "from PyPDF2 import PdfMerger\n",
    "\n",
    "#Abro dois arquivos\n",
    "pagina1_ArquivoAmazon = \"A:\\\\Python RPA\\\\Arquivo Texto e PDF\\\\PDF\\\\PDFs Amazon\\\\Arquivo_Amazon1.pdf\"\n",
    "pagina1_ArquivoMercadoLivre = \"A:\\\\Python RPA\\\\Arquivo Texto e PDF\\\\PDF\\\\PDFs Mercado Livre\\\\Arquivo_Mercado_Livre1.pdf\"\n",
    "\n",
    "juntarPDFs = PdfMerger()\n",
    "\n",
    "#Para cada PDF na lista eu pego o aquivo e adiciono no juntarPDFs \n",
    "for pdf in [pagina1_ArquivoAmazon, pagina1_ArquivoMercadoLivre]:\n",
    "    \n",
    "    juntarPDFs.append(pdf)\n",
    "\n",
    "\n",
    "#Salvo o arquivo consolidado PDF na pasta\n",
    "juntarPDFs.write(\"A:\\\\Python RPA\\\\Arquivo Texto e PDF\\\\PDF\\\\Arquivo_Duas_Paginas_Juntas.pdf\")\n",
    "juntarPDFs.close()\n",
    "\n",
    "#Abro o arquivo com a pagina 1 dos dois arquivos\n",
    "arquivoComDuasPaginas = \"A:\\\\Python RPA\\\\Arquivo Texto e PDF\\\\PDF\\\\Arquivo_Duas_Paginas_Juntas.pdf\"\n",
    "\n",
    "#Crio uma nova variavel para montar um arquivo\n",
    "juntarMaisPaginas = opcoesPDF.PdfFileMerger()\n",
    "\n",
    "arquivoFinal = \"A:\\\\Python RPA\\\\Arquivo Texto e PDF\\\\PDF\\\\SEBRAE-AMAZON.pdf\" \n",
    "\n",
    "#Sempre começa no indice 0\n",
    "#Coloco o arquivo SEBRAE-AMAZON a partir da página 3 \n",
    "juntarMaisPaginas.append(arquivoComDuasPaginas)\n",
    "juntarMaisPaginas.merge(2, arquivoFinal)\n",
    "\n",
    "#Salvo o arquivo consolidado PDF na pasta\n",
    "juntarMaisPaginas.write(\"A:\\\\Python RPA\\\\Arquivo Texto e PDF\\\\PDF\\\\Arquivo_com_Duas_Paginas_e_SEBRAE-AMAZON.pdf\")\n",
    "juntarMaisPaginas.close()\n",
    "\n",
    "             \n",
    "print(\"Pronto!\")"
   ]
  },
  {
   "cell_type": "code",
   "execution_count": null,
   "id": "128cfc86",
   "metadata": {},
   "outputs": [],
   "source": []
  },
  {
   "cell_type": "code",
   "execution_count": 3,
   "id": "deca198e",
   "metadata": {},
   "outputs": [
    {
     "name": "stdout",
     "output_type": "stream",
     "text": [
      "Texto está na página:  25\n",
      "Pronto!\n"
     ]
    }
   ],
   "source": [
    "import PyPDF2 as opcoesPDF\n",
    "from pathlib import Path\n",
    "\n",
    "#Abro dois arquivos\n",
    "caminhoArquivo = \"A:\\\\Python RPA\\\\Arquivo Texto e PDF\\\\PDF\\\\Mercado_Livre.pdf\"\n",
    "\n",
    "PDF_MercadoLivre = opcoesPDF.PdfFileReader(caminhoArquivo)\n",
    "\n",
    "texto = \"\"\"Entendendo sobre a criação do \n",
    "Preço\n",
    "\"\"\"\n",
    "\n",
    "numeroPagina = 1\n",
    "\n",
    "#Para cada página onde no arquivo do Mercado Livre\n",
    "for pagina in PDF_MercadoLivre.pages:\n",
    "    \n",
    "    #Pega o que escrito na página\n",
    "    textoDaPagina = pagina.extractText()\n",
    "    \n",
    "    #Verifica se dentro do texto da página tem o texto que estamos procurando\n",
    "    if texto in textoDaPagina:\n",
    "        \n",
    "        print(\"Texto está na página: \", numeroPagina)\n",
    "        \n",
    "    numeroPagina += 1\n",
    "    \n",
    "    \n",
    "print(\"Pronto!\")"
   ]
  },
  {
   "cell_type": "code",
   "execution_count": null,
   "id": "63e5df2c",
   "metadata": {},
   "outputs": [],
   "source": []
  },
  {
   "cell_type": "code",
   "execution_count": 10,
   "id": "c1804d85",
   "metadata": {},
   "outputs": [
    {
     "name": "stdout",
     "output_type": "stream",
     "text": [
      "Texto está na página:  25\n",
      "InternalOMercado Livre, possui algumas particularidades emque énecessário levar emconta antes dacriação dopreço deseuproduto\n",
      "Entendendo sobre a criação do Preço\n",
      "•Para ovendedor doMercado Livre, não existe inadimplência naplataforma, caso considere algum fator/percentual naformação depreço doseuproduto\n",
      "Lembre -sedeexcluí -lo,\n",
      "caso contrário omesmo estará duplicado\n",
      "\n",
      "•Desconsidere oinvestimento deMarketing dovalor total doproduto, este percentual está incluso nacomissão paga aoMercado Livre\n",
      "Lembre -sedeexcluí -lo,caso contrário o\n",
      "mesmo estará duplicado\n",
      "\n",
      "•Lembrem -setambém que acompra viaCartão deCrédito custo mínimo de3%dequando vendido àvista\n",
      ".NoMercado Livre não háesta despesa\n",
      "\n",
      "•Quando umproduto custa menos deR$120,0,énecessário considerar mais R$5,00porunidade aoconfigurar ofrete, produtos acima deR$120,00,considerar ovalor defrete no\n",
      "cálculo esempre oferecer grátis aocomprador\n",
      "\n",
      "Para maiores informações sobre venda de produto, clique aqui: Quanto custa vender um produto\n",
      "Para detalhes sobre frete grátis, tabelas e descontos de acordo com sua reputação, clique aqui: Custos de frete grátis pelo Mercado Envios\n",
      "Para cálculo volumétrico de suas encomendas, clique aqui: Como calcular o custo dos seus enviosPara que realize vendas sem que haja prejuízos, é preciso considerar alguns valores ao especificar o valor do produto na elaboração do anúncio, vide exemplo abaixo:\n",
      "LEMBRANDO QUE : os preços finais em amarelo ainda não condicionam o frete, valor este que será mostrado durante a criação do anúncio e/ou de acordo com a peça consultar a tabela de preços, disponível nos links abaixo.\n",
      "CLASSIC Preço Final PREMIUM Preço Final\n",
      "11% de comissão (11% de comissão) 16% de comissão (16% de comissão)\n",
      "Produtos abaixo de R $ 1 20 1 00,00 R $                    S IM Comprador ou Vendedor 1 1 ,00 R $                   1 1 6,00 R $                    1 6,00 R $                   1 21 ,00 R $                    Produtos acima de R $ 1 20 1 40,00 R $                    NÃO 50%  ML e 50%  Vendedor 1 5,40 R $                   1 55,40 R $                    22,40 R $                   1 62,40 R $                    Faixa de CustoPreço integral do Produto ExemploTaxa de R$ 5 (inclusa no preço final)FreteDúvidas? Use o Chat do Mercado Livre. Há mais de 1.000 profissionais disponíveis para sanar qualquer tipo de dúvida das 6h às 0h.\n",
      "Pronto!\n"
     ]
    }
   ],
   "source": [
    "#Encontro em qual página está o texto e trato um pouco os dados\n",
    "import PyPDF2 as opcoesPDF\n",
    "from pathlib import Path\n",
    "\n",
    "#Abro dois arquivos\n",
    "caminhoArquivo = \"A:\\\\Python RPA\\\\Arquivo Texto e PDF\\\\PDF\\\\Mercado_Livre.pdf\"\n",
    "\n",
    "PDF_MercadoLivre = opcoesPDF.PdfFileReader(caminhoArquivo)\n",
    "\n",
    "texto = \"\"\"Entendendo sobre a criação do \n",
    "Preço\n",
    "\"\"\"\n",
    "\n",
    "numeroPagina = 1\n",
    "\n",
    "#Para cada página onde no arquivo do Mercado Livre\n",
    "for pagina in PDF_MercadoLivre.pages:\n",
    "    \n",
    "    #Pega o que escrito na página\n",
    "    textoDaPagina = pagina.extractText()\n",
    "    \n",
    "    #Verifica se dentro do texto da página tem o texto que estamos procurando\n",
    "    if texto in textoDaPagina:\n",
    "        \n",
    "        print(\"Texto está na página: \", numeroPagina)\n",
    "        \n",
    "        #Organiza um pouco mais o texto\n",
    "        textoDaPagina = textoDaPagina.replace(\" .\", \"\\n\")\n",
    "        textoDaPagina = textoDaPagina.replace(\"\\n \\n\", \"\")\n",
    "        textoDaPagina = textoDaPagina.replace(\"\"\" \n",
    "\"\"\", \" \")\n",
    "        print(textoDaPagina)\n",
    "        \n",
    "    numeroPagina += 1\n",
    "    \n",
    "    \n",
    "print(\"Pronto!\")"
   ]
  },
  {
   "cell_type": "code",
   "execution_count": null,
   "id": "dbec78a2",
   "metadata": {},
   "outputs": [],
   "source": []
  },
  {
   "cell_type": "code",
   "execution_count": 18,
   "id": "5e44b375",
   "metadata": {},
   "outputs": [
    {
     "name": "stdout",
     "output_type": "stream",
     "text": [
      "Texto está na página:  25\n",
      "1384\n",
      "1601\n",
      "LEMBRANDO QUE : os preços finais em amarelo ainda não condicionam o frete, valor este que será mostrado durante a criação do anúncio e/ou de acordo com a peça consultar a tabela de preços, disponível nos links abaixo.\n"
     ]
    }
   ],
   "source": [
    "#Encontro em qual página está o texto e trato um pouco os dados\n",
    "#Separo a parte de um texto de uma página\n",
    "import PyPDF2 as opcoesPDF\n",
    "from pathlib import Path\n",
    "\n",
    "#Abro dois arquivos\n",
    "caminhoArquivo = \"A:\\\\Python RPA\\\\Arquivo Texto e PDF\\\\PDF\\\\Mercado_Livre.pdf\"\n",
    "\n",
    "PDF_MercadoLivre = opcoesPDF.PdfFileReader(caminhoArquivo)\n",
    "\n",
    "texto = \"\"\"Entendendo sobre a criação do \n",
    "Preço\n",
    "\"\"\"\n",
    "\n",
    "numeroPagina = 1\n",
    "\n",
    "#Para cada página onde no arquivo do Mercado Livre\n",
    "for pagina in PDF_MercadoLivre.pages:\n",
    "    \n",
    "    #Pega o que escrito na página\n",
    "    textoDaPagina = pagina.extractText()\n",
    "    \n",
    "    #Verifica se dentro do texto da página tem o texto que estamos procurando\n",
    "    if texto in textoDaPagina:\n",
    "        \n",
    "        print(\"Texto está na página: \", numeroPagina)\n",
    "        \n",
    "        #Organiza um pouco mais o texto\n",
    "        textoDaPagina = textoDaPagina.replace(\" .\", \"\\n\")\n",
    "        textoDaPagina = textoDaPagina.replace(\"\\n \\n\", \"\")\n",
    "        textoDaPagina = textoDaPagina.replace(\"\"\" \n",
    "\"\"\", \" \")\n",
    "        \n",
    "        #Pego a posicao Inicial a partir de um texto especifico\n",
    "        posicaoInicial = textoDaPagina.find(\"LEMBRANDO QUE : \")\n",
    "        \n",
    "        #Pego a posicao Final a partir de um texto especifico\n",
    "        posicaoFinal = textoDaPagina.find(\"links abaixo.\", posicaoInicial + 1) + 13\n",
    "        \n",
    "        print(posicaoInicial)\n",
    "        print(posicaoFinal)\n",
    "        \n",
    "        textoSeparado = textoDaPagina[posicaoInicial:posicaoFinal]\n",
    "        #textoSeparado = textoDaPagina[1384:1601]\n",
    "        \n",
    "        print(textoSeparado)\n",
    "        \n",
    "    numeroPagina += 1\n",
    "    \n",
    "    \n",
    "#print(\"Pronto!\")"
   ]
  },
  {
   "cell_type": "code",
   "execution_count": null,
   "id": "dccc3230",
   "metadata": {},
   "outputs": [],
   "source": []
  },
  {
   "cell_type": "code",
   "execution_count": 29,
   "id": "49843116",
   "metadata": {},
   "outputs": [
    {
     "name": "stdout",
     "output_type": "stream",
     "text": [
      "['https://www.google.com/']\n",
      "['https://www.google.com/', 'https://www.google.com/']\n",
      "['https://www.google.com/', 'https://www.google.com/', 'https://www.google.com/']\n",
      "['https://www.google.com/', 'https://www.google.com/', 'https://www.google.com/', 'https://www.google.com/']\n",
      "['https://www.google.com/', 'https://www.google.com/', 'https://www.google.com/', 'https://www.google.com/', 'https://www.google.com/']\n",
      "['https://www.google.com/', 'https://www.google.com/', 'https://www.google.com/', 'https://www.google.com/', 'https://www.google.com/', 'https://www.google.com/']\n"
     ]
    }
   ],
   "source": [
    "#Pega todos os Hyperlinks de um arquivo\n",
    "from PyPDF2 import PdfReader\n",
    "\n",
    "pdf = PdfReader(\"A:\\\\Python RPA\\\\Arquivo Texto e PDF\\\\PDF\\\\ProfessoraRosiane.pdf\")\n",
    "\n",
    "urls = []\n",
    "#para cada página onde? Range ou seja no arquivo completo\n",
    "for pagina in range(pdf.numPages):\n",
    "    \n",
    "    paginaSelecionada = pdf.getPage(pagina)\n",
    "    #Tratamento de erro\n",
    "    try:\n",
    "        \n",
    "        #Verifico se existe alguma url na página\n",
    "        for url in (paginaSelecionada['/Annots']):\n",
    "            \n",
    "            #Converto para texto\n",
    "            texto = str(url)\n",
    "            #print(texto)\n",
    "            \n",
    "            if \".com\" in texto:\n",
    "                #append - adiciono\n",
    "                urls.append(url['/A']['/URI'])\n",
    "                print(urls)\n",
    "        \n",
    "    except KeyError:\n",
    "        pass"
   ]
  },
  {
   "cell_type": "code",
   "execution_count": null,
   "id": "059ce81d",
   "metadata": {},
   "outputs": [],
   "source": []
  },
  {
   "cell_type": "code",
   "execution_count": 41,
   "id": "54d1ee24",
   "metadata": {},
   "outputs": [
    {
     "name": "stdout",
     "output_type": "stream",
     "text": [
      "Texto está na página:  25\n"
     ]
    },
    {
     "data": {
      "text/html": [
       "<div>\n",
       "<style scoped>\n",
       "    .dataframe tbody tr th:only-of-type {\n",
       "        vertical-align: middle;\n",
       "    }\n",
       "\n",
       "    .dataframe tbody tr th {\n",
       "        vertical-align: top;\n",
       "    }\n",
       "\n",
       "    .dataframe thead th {\n",
       "        text-align: right;\n",
       "    }\n",
       "</style>\n",
       "<table border=\"1\" class=\"dataframe\">\n",
       "  <thead>\n",
       "    <tr style=\"text-align: right;\">\n",
       "      <th></th>\n",
       "      <th>Faixa de Custo</th>\n",
       "      <th>NaN</th>\n",
       "      <th>NaN</th>\n",
       "      <th>Frete</th>\n",
       "      <th>NaN</th>\n",
       "      <th>NaN</th>\n",
       "      <th>NaN</th>\n",
       "      <th>NaN</th>\n",
       "    </tr>\n",
       "  </thead>\n",
       "  <tbody>\n",
       "    <tr>\n",
       "      <th>2</th>\n",
       "      <td>Produtos abaixo de R$ 120</td>\n",
       "      <td>R$100,00</td>\n",
       "      <td>SIM</td>\n",
       "      <td>Comprador ou Vendedor</td>\n",
       "      <td>R$11,00</td>\n",
       "      <td>R$116,00</td>\n",
       "      <td>R$16,00</td>\n",
       "      <td>R$121,00</td>\n",
       "    </tr>\n",
       "    <tr>\n",
       "      <th>3</th>\n",
       "      <td>Produtos acima de R$ 120</td>\n",
       "      <td>R$140,00</td>\n",
       "      <td>NÃO</td>\n",
       "      <td>50% ML e 50% Vendedor</td>\n",
       "      <td>R$15,40</td>\n",
       "      <td>R$155,40</td>\n",
       "      <td>R$22,40</td>\n",
       "      <td>R$162,40</td>\n",
       "    </tr>\n",
       "  </tbody>\n",
       "</table>\n",
       "</div>"
      ],
      "text/plain": [
       "0             Faixa de Custo       NaN  NaN                  Frete      NaN  \\\n",
       "2  Produtos abaixo de R$ 120  R$100,00  SIM  Comprador ou Vendedor  R$11,00   \n",
       "3   Produtos acima de R$ 120  R$140,00  NÃO  50% ML e 50% Vendedor  R$15,40   \n",
       "\n",
       "0       NaN      NaN       NaN  \n",
       "2  R$116,00  R$16,00  R$121,00  \n",
       "3  R$155,40  R$22,40  R$162,40  "
      ]
     },
     "metadata": {},
     "output_type": "display_data"
    }
   ],
   "source": [
    "#Encontro em qual página está o texto e trato um pouco os dados\n",
    "#Imprime a tabela de uma página\n",
    "import PyPDF2 as opcoesPDF\n",
    "from pathlib import Path\n",
    "\n",
    "import tabula\n",
    "#import tabula.io import read_pdf\n",
    "\n",
    "#Abro dois arquivos\n",
    "caminhoArquivo = \"A:\\\\Python RPA\\\\Arquivo Texto e PDF\\\\PDF\\\\Mercado_Livre.pdf\"\n",
    "\n",
    "PDF_MercadoLivre = opcoesPDF.PdfFileReader(caminhoArquivo)\n",
    "\n",
    "texto = \"\"\"Entendendo sobre a criação do \n",
    "Preço\n",
    "\"\"\"\n",
    "\n",
    "numeroPagina = 1\n",
    "\n",
    "#Para cada página onde no arquivo do Mercado Livre\n",
    "for pagina in PDF_MercadoLivre.pages:\n",
    "    \n",
    "    #Pega o que escrito na página\n",
    "    textoDaPagina = pagina.extractText()\n",
    "    \n",
    "    #Verifica se dentro do texto da página tem o texto que estamos procurando\n",
    "    if texto in textoDaPagina:\n",
    "        \n",
    "        print(\"Texto está na página: \", numeroPagina)\n",
    "        \n",
    "        trataAcentosLetras = 'cp1252'\n",
    "        \n",
    "        #O tabula percorre a página selecionada e pega todas as tabelas presentes neste arquivo ou página\n",
    "        dataFrame = tabula.io.read_pdf(\"A:\\\\Python RPA\\\\Arquivo Texto e PDF\\\\PDF\\\\Mercado_Livre_2.pdf\", pages=numeroPagina, encoding=trataAcentosLetras)\n",
    "        \n",
    "        tabelaEncontrada = dataFrame[0] #Pega a primeira tabela que encontra\n",
    "        tabelaEncontrada = tabelaEncontrada.dropna(how='all', axis=0) #Remove todas as linhas que estão em branco\n",
    "        tabelaEncontrada = tabelaEncontrada.dropna(how='all', axis=1) #Remove todas as colunas que estão em branco\n",
    "        tabelaEncontrada.columns = tabelaEncontrada.iloc[0] #iloc - Seleciona a linha 0  exclui\n",
    "        tabelaEncontrada = tabelaEncontrada.drop(tabelaEncontrada.index[0]) #Exclui a linha 0 que está do mesmo jeito que o cabeçalho\n",
    "        tabelaEncontrada = tabelaEncontrada.drop(tabelaEncontrada.index[0]) #Exclui a linha 0 que está do mesmo jeito que o cabeçalho\n",
    "        \n",
    "        display(tabelaEncontrada)\n",
    "        \n",
    "    numeroPagina += 1\n",
    "    \n",
    "    \n",
    "#Exporta a tabela para o Excel\n",
    "tabelaEncontrada.to_excel(\"A:\\\\Python RPA\\\\Arquivo Texto e PDF\\\\PDF\\\\Tabela_Pg_25.xlsx\", encoding=trataAcentosLetras)\n",
    "    \n",
    "    \n",
    "#print(\"Pronto!\")"
   ]
  },
  {
   "cell_type": "code",
   "execution_count": null,
   "id": "4304c718",
   "metadata": {},
   "outputs": [],
   "source": []
  },
  {
   "cell_type": "code",
   "execution_count": 5,
   "id": "3df1236d",
   "metadata": {},
   "outputs": [
    {
     "name": "stdout",
     "output_type": "stream",
     "text": [
      "Tabela da página: 1\n"
     ]
    },
    {
     "data": {
      "text/html": [
       "<div>\n",
       "<style scoped>\n",
       "    .dataframe tbody tr th:only-of-type {\n",
       "        vertical-align: middle;\n",
       "    }\n",
       "\n",
       "    .dataframe tbody tr th {\n",
       "        vertical-align: top;\n",
       "    }\n",
       "\n",
       "    .dataframe thead th {\n",
       "        text-align: right;\n",
       "    }\n",
       "</style>\n",
       "<table border=\"1\" class=\"dataframe\">\n",
       "  <thead>\n",
       "    <tr style=\"text-align: right;\">\n",
       "      <th></th>\n",
       "      <th>Unnamed: 0</th>\n",
       "      <th>Anúncio Clássico</th>\n",
       "      <th>Anúncio Premium</th>\n",
       "    </tr>\n",
       "  </thead>\n",
       "  <tbody>\n",
       "    <tr>\n",
       "      <th>0</th>\n",
       "      <td>Relevância</td>\n",
       "      <td>Média</td>\n",
       "      <td>Alta</td>\n",
       "    </tr>\n",
       "    <tr>\n",
       "      <th>1</th>\n",
       "      <td>Parcelamento 12x</td>\n",
       "      <td>Com juros</td>\n",
       "      <td>Sem juros</td>\n",
       "    </tr>\n",
       "    <tr>\n",
       "      <th>2</th>\n",
       "      <td>Comissão</td>\n",
       "      <td>11%</td>\n",
       "      <td>16%</td>\n",
       "    </tr>\n",
       "  </tbody>\n",
       "</table>\n",
       "</div>"
      ],
      "text/plain": [
       "         Unnamed: 0 Anúncio Clássico Anúncio Premium\n",
       "0        Relevância            Média            Alta\n",
       "1  Parcelamento 12x        Com juros       Sem juros\n",
       "2          Comissão              11%             16%"
      ]
     },
     "metadata": {},
     "output_type": "display_data"
    },
    {
     "name": "stdout",
     "output_type": "stream",
     "text": [
      "Tabela da página: 2\n"
     ]
    },
    {
     "data": {
      "text/html": [
       "<div>\n",
       "<style scoped>\n",
       "    .dataframe tbody tr th:only-of-type {\n",
       "        vertical-align: middle;\n",
       "    }\n",
       "\n",
       "    .dataframe tbody tr th {\n",
       "        vertical-align: top;\n",
       "    }\n",
       "\n",
       "    .dataframe thead th {\n",
       "        text-align: right;\n",
       "    }\n",
       "</style>\n",
       "<table border=\"1\" class=\"dataframe\">\n",
       "  <thead>\n",
       "    <tr style=\"text-align: right;\">\n",
       "      <th></th>\n",
       "      <th>Preço não é o ÚNICO FATOR de influência nas vendas.</th>\n",
       "    </tr>\n",
       "  </thead>\n",
       "  <tbody>\n",
       "  </tbody>\n",
       "</table>\n",
       "</div>"
      ],
      "text/plain": [
       "Empty DataFrame\n",
       "Columns: [Preço não é o ÚNICO FATOR de influência nas vendas.]\n",
       "Index: []"
      ]
     },
     "metadata": {},
     "output_type": "display_data"
    },
    {
     "name": "stdout",
     "output_type": "stream",
     "text": [
      "Tabela da página: 3\n"
     ]
    },
    {
     "data": {
      "text/html": [
       "<div>\n",
       "<style scoped>\n",
       "    .dataframe tbody tr th:only-of-type {\n",
       "        vertical-align: middle;\n",
       "    }\n",
       "\n",
       "    .dataframe tbody tr th {\n",
       "        vertical-align: top;\n",
       "    }\n",
       "\n",
       "    .dataframe thead th {\n",
       "        text-align: right;\n",
       "    }\n",
       "</style>\n",
       "<table border=\"1\" class=\"dataframe\">\n",
       "  <thead>\n",
       "    <tr style=\"text-align: right;\">\n",
       "      <th></th>\n",
       "      <th>Unnamed: 0</th>\n",
       "      <th>Preço integral do</th>\n",
       "      <th>Taxa de R$ 5 (inclusa</th>\n",
       "      <th>Unnamed: 1</th>\n",
       "      <th>CLASSIC</th>\n",
       "      <th>Preço Final</th>\n",
       "      <th>PREMIUM</th>\n",
       "      <th>Preço Final.1</th>\n",
       "    </tr>\n",
       "  </thead>\n",
       "  <tbody>\n",
       "    <tr>\n",
       "      <th>0</th>\n",
       "      <td>Faixa de Custo</td>\n",
       "      <td>NaN</td>\n",
       "      <td>NaN</td>\n",
       "      <td>Frete</td>\n",
       "      <td>NaN</td>\n",
       "      <td>NaN</td>\n",
       "      <td>NaN</td>\n",
       "      <td>NaN</td>\n",
       "    </tr>\n",
       "    <tr>\n",
       "      <th>1</th>\n",
       "      <td>NaN</td>\n",
       "      <td>Produto Exemplo</td>\n",
       "      <td>no preço final)</td>\n",
       "      <td>NaN</td>\n",
       "      <td>11% de comissão</td>\n",
       "      <td>(11% de comissão)</td>\n",
       "      <td>16% de comissão</td>\n",
       "      <td>(16% de comissão)</td>\n",
       "    </tr>\n",
       "    <tr>\n",
       "      <th>2</th>\n",
       "      <td>Produtos abaixo de R$ 120</td>\n",
       "      <td>R$100,00</td>\n",
       "      <td>SIM</td>\n",
       "      <td>Comprador ou Vendedor</td>\n",
       "      <td>R$11,00</td>\n",
       "      <td>R$116,00</td>\n",
       "      <td>R$16,00</td>\n",
       "      <td>R$121,00</td>\n",
       "    </tr>\n",
       "    <tr>\n",
       "      <th>3</th>\n",
       "      <td>Produtos acima de R$ 120</td>\n",
       "      <td>R$140,00</td>\n",
       "      <td>NÃO</td>\n",
       "      <td>50% ML e 50% Vendedor</td>\n",
       "      <td>R$15,40</td>\n",
       "      <td>R$155,40</td>\n",
       "      <td>R$22,40</td>\n",
       "      <td>R$162,40</td>\n",
       "    </tr>\n",
       "  </tbody>\n",
       "</table>\n",
       "</div>"
      ],
      "text/plain": [
       "                  Unnamed: 0 Preço integral do Taxa de R$ 5 (inclusa  \\\n",
       "0             Faixa de Custo               NaN                   NaN   \n",
       "1                        NaN   Produto Exemplo       no preço final)   \n",
       "2  Produtos abaixo de R$ 120          R$100,00                   SIM   \n",
       "3   Produtos acima de R$ 120          R$140,00                   NÃO   \n",
       "\n",
       "              Unnamed: 1          CLASSIC        Preço Final          PREMIUM  \\\n",
       "0                  Frete              NaN                NaN              NaN   \n",
       "1                    NaN  11% de comissão  (11% de comissão)  16% de comissão   \n",
       "2  Comprador ou Vendedor          R$11,00           R$116,00          R$16,00   \n",
       "3  50% ML e 50% Vendedor          R$15,40           R$155,40          R$22,40   \n",
       "\n",
       "       Preço Final.1  \n",
       "0                NaN  \n",
       "1  (16% de comissão)  \n",
       "2           R$121,00  \n",
       "3           R$162,40  "
      ]
     },
     "metadata": {},
     "output_type": "display_data"
    },
    {
     "name": "stdout",
     "output_type": "stream",
     "text": [
      "Pronto!\n"
     ]
    }
   ],
   "source": [
    "#Encontro em qual página está o texto e trato um pouco os dados\n",
    "#Imprime a tabela de uma página\n",
    "import PyPDF2 as opcoesPDF\n",
    "from pathlib import Path\n",
    "\n",
    "#Pega as tabelas do arquivo PDF\n",
    "import tabula\n",
    "#import tabula.io import read_pdf\n",
    "\n",
    "trataErrosLetras = 'cp1252'\n",
    "dataFrame = tabula.io.read_pdf(\"A:\\\\Python RPA\\\\Arquivo Texto e PDF\\\\PDF\\\\Mercado_Livre.pdf\", pages=\"all\", encoding=trataErrosLetras)\n",
    "\n",
    "tabela = 1\n",
    "for tabelaEncontrada in dataFrame:\n",
    "    \n",
    "    tabelaEncontrada = tabelaEncontrada.dropna(how='all', axis=0) #Remove todas as linhas que estão em branco\n",
    "    #tabelaEncontrada = tabelaEncontrada.dropna(how='all', axis=1) #Remove todas as colunas que estão em branco\n",
    "    #tabelaEncontrada.columns = tabelaEncontrada.iloc[0] #iloc - Seleciona a linha 0  exclui\n",
    "    #tabelaEncontrada = tabelaEncontrada.drop(tabelaEncontrada.index[0]) #Exclui a linha 0 que está do mesmo jeito que o cabeçalho\n",
    "    #tabelaEncontrada = tabelaEncontrada.drop(tabelaEncontrada.index[0]) #Exclui a linha 0 que está do mesmo jeito que o cabeçalho\n",
    "\n",
    "    print(\"Tabela da página:\", tabela)\n",
    "    display(tabelaEncontrada)\n",
    "    \n",
    "    #Exporta a tabela para o Excel\n",
    "    tabelaEncontrada.to_excel(\"A:\\\\Python RPA\\\\Arquivo Texto e PDF\\\\PDF\\\\Tabela_All_\" + str(tabela) + \".xlsx\", encoding=trataErrosLetras)\n",
    "    \n",
    "    tabela += 1\n",
    "    \n",
    "print(\"Pronto!\")"
   ]
  },
  {
   "cell_type": "code",
   "execution_count": null,
   "id": "4426a385",
   "metadata": {},
   "outputs": [],
   "source": []
  },
  {
   "cell_type": "code",
   "execution_count": 6,
   "id": "db720d43",
   "metadata": {},
   "outputs": [
    {
     "name": "stdout",
     "output_type": "stream",
     "text": [
      "Collecting pikepdf\n",
      "  Downloading pikepdf-6.2.5-cp38-cp38-win_amd64.whl (3.2 MB)\n",
      "Collecting Pillow>=9.0\n",
      "  Downloading Pillow-9.3.0-cp38-cp38-win_amd64.whl (2.5 MB)\n",
      "Collecting lxml>=4.8\n",
      "  Downloading lxml-4.9.1-cp38-cp38-win_amd64.whl (3.6 MB)\n",
      "Collecting deprecation\n",
      "  Downloading deprecation-2.1.0-py2.py3-none-any.whl (11 kB)\n",
      "Requirement already satisfied: packaging in c:\\users\\55119\\anaconda3\\lib\\site-packages (from pikepdf) (20.9)\n",
      "Requirement already satisfied: pyparsing>=2.0.2 in c:\\users\\55119\\anaconda3\\lib\\site-packages (from packaging->pikepdf) (2.4.7)\n",
      "Installing collected packages: Pillow, lxml, deprecation, pikepdf\n",
      "  Attempting uninstall: Pillow\n",
      "    Found existing installation: Pillow 8.2.0\n",
      "    Uninstalling Pillow-8.2.0:\n",
      "      Successfully uninstalled Pillow-8.2.0\n",
      "  Attempting uninstall: lxml\n",
      "    Found existing installation: lxml 4.6.3\n",
      "    Uninstalling lxml-4.6.3:\n",
      "      Successfully uninstalled lxml-4.6.3\n",
      "Successfully installed Pillow-9.3.0 deprecation-2.1.0 lxml-4.9.1 pikepdf-6.2.5\n",
      "Note: you may need to restart the kernel to use updated packages.\n"
     ]
    }
   ],
   "source": [
    "pip install pikepdf"
   ]
  },
  {
   "cell_type": "code",
   "execution_count": null,
   "id": "f028e5be",
   "metadata": {},
   "outputs": [],
   "source": []
  },
  {
   "cell_type": "code",
   "execution_count": 8,
   "id": "8425acce",
   "metadata": {},
   "outputs": [],
   "source": [
    "#Pegar todas as imagens de um arquivo PDF e salvar no computador\n",
    "from pikepdf import Pdf, PdfImage\n",
    "\n",
    "caminhoArquivo = \"A:\\\\Python RPA\\\\Arquivo Texto e PDF\\\\PDF\\\\Evolução_Amazon.pdf\"\n",
    "arquivoPDF = Pdf.open(caminhoArquivo)\n",
    "\n",
    "contador = 0\n",
    "for i, pagina in enumerate(arquivoPDF.pages):\n",
    "    for nome, imagem in pagina.images.items():\n",
    "        imagemCapturada = PdfImage(imagem)\n",
    "        imagemCapturada.extract_to(fileprefix=\"A:\\\\Python RPA\\\\Arquivo Texto e PDF\\\\PDF\\\\Imagens_PDF\\\\\" + nome + str(contador))\n",
    "        contador += 1"
   ]
  },
  {
   "cell_type": "code",
   "execution_count": null,
   "id": "6e24f877",
   "metadata": {},
   "outputs": [],
   "source": []
  }
 ],
 "metadata": {
  "kernelspec": {
   "display_name": "Python 3",
   "language": "python",
   "name": "python3"
  },
  "language_info": {
   "codemirror_mode": {
    "name": "ipython",
    "version": 3
   },
   "file_extension": ".py",
   "mimetype": "text/x-python",
   "name": "python",
   "nbconvert_exporter": "python",
   "pygments_lexer": "ipython3",
   "version": "3.8.8"
  }
 },
 "nbformat": 4,
 "nbformat_minor": 5
}
